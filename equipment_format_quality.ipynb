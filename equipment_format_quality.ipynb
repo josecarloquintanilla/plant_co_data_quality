{
 "cells": [
  {
   "cell_type": "code",
   "execution_count": 1,
   "id": "5733971c-6795-4232-a93a-64cff4b06f63",
   "metadata": {},
   "outputs": [
    {
     "name": "stdout",
     "output_type": "stream",
     "text": [
      "Environment: 'prod'\n"
     ]
    }
   ],
   "source": [
    "import pandas as pd\n",
    "import os\n",
    "\n",
    "env = os.environ.get('Environment')\n",
    "print(f\"Environment: {env!r}\")"
   ]
  },
  {
   "cell_type": "code",
   "execution_count": 2,
   "id": "01154151-c0f7-406f-9dd6-73d06c10aaa5",
   "metadata": {},
   "outputs": [],
   "source": [
    "%reload_ext jupyter_dmdg"
   ]
  },
  {
   "cell_type": "markdown",
   "id": "3b67fa4e-024f-46d5-ba90-1a1dfcc54fc9",
   "metadata": {},
   "source": [
    "### Step 1: Query all distinct combinations of event_name and location_hierarchy with the most recent event_start"
   ]
  },
  {
   "cell_type": "code",
   "execution_count": 3,
   "id": "3a100280-8af2-4aa9-acdd-82f4f11e3af4",
   "metadata": {},
   "outputs": [],
   "source": [
    "%%athena_to_df --out distinct_last_event_names\n",
    "SELECT \n",
    "    event_name, \n",
    "    location_hierarchy, \n",
    "    MAX(event_start) AS last_start\n",
    "FROM \"prod_plant_connectivity_prepared_data\".\"process_events\"\n",
    "GROUP BY 1,2"
   ]
  },
  {
   "cell_type": "markdown",
   "id": "48547192-08ec-4299-8970-3c37f3014ac8",
   "metadata": {},
   "source": [
    "### Step 2: Only keep the event_name with the most recent event_start"
   ]
  },
  {
   "cell_type": "code",
   "execution_count": 4,
   "id": "1a4dc709-ea79-4947-8569-bcf31293617c",
   "metadata": {},
   "outputs": [],
   "source": [
    "distinct_last_event_names_ordered = distinct_last_event_names.sort_values('last_start', ascending=False)\n",
    "unique_event_name = distinct_last_event_names_ordered.drop_duplicates(subset='event_name', keep='first')"
   ]
  },
  {
   "cell_type": "markdown",
   "id": "1ed88d65-5c6e-4403-8cc2-876964708207",
   "metadata": {},
   "source": [
    "### Step 3: Select the equipment associated to event_name with the most recent event_start that have secondary_function_id"
   ]
  },
  {
   "cell_type": "code",
   "execution_count": 8,
   "id": "77ac1d2c-bad4-408d-8166-549843522be1",
   "metadata": {},
   "outputs": [],
   "source": [
    "non_compliant_equipment_due2format_list = unique_event_name['location_hierarchy'][unique_event_name['location_hierarchy'].str.count('-') > 2].tolist()\n",
    "non_compliant_equipment_due2format = pd.DataFrame({'location_hierarchy': non_compliant_equipment_due2format_list})\n",
    "non_compliant_equipment_due2format = non_compliant_equipment_due2format.drop_duplicates(subset='location_hierarchy')"
   ]
  },
  {
   "cell_type": "markdown",
   "id": "b37f3d7b-c096-44c4-a6d2-2590e7ba943b",
   "metadata": {},
   "source": [
    "### Step 4: Create a table in the dedicated workspace that contains the equipment to be corrected in the S_Egnine equipment catalog because of their non_compliant location hierarchy format"
   ]
  },
  {
   "cell_type": "code",
   "execution_count": 9,
   "id": "2eaf7f31-98c1-4fb4-b932-32ace404d16d",
   "metadata": {},
   "outputs": [],
   "source": [
    "from src.utils import write_into_table\n",
    "workspace_prefix = 'public-plant-co-data-quality-20230520193210554'"
   ]
  },
  {
   "cell_type": "code",
   "execution_count": null,
   "id": "4924aaca-1c9a-4caa-8843-12150d9d4678",
   "metadata": {},
   "outputs": [],
   "source": [
    "table_name = 'non_compliant_equipment_due2format'\n",
    "write_into_table(\n",
    "    non_compliant_equipment_due2format,\n",
    "    table_name.lower(),\n",
    "    workspace_prefix\n",
    ")"
   ]
  }
 ],
 "metadata": {
  "kernelspec": {
   "display_name": "Python 3",
   "language": "python",
   "name": "python3"
  },
  "language_info": {
   "codemirror_mode": {
    "name": "ipython",
    "version": 3
   },
   "file_extension": ".py",
   "mimetype": "text/x-python",
   "name": "python",
   "nbconvert_exporter": "python",
   "pygments_lexer": "ipython3",
   "version": "3.9.2"
  }
 },
 "nbformat": 4,
 "nbformat_minor": 5
}

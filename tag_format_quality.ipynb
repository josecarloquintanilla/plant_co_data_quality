{
 "cells": [
  {
   "cell_type": "code",
   "execution_count": 1,
   "id": "0e2abf09-4b59-40ef-8137-3e7da351ccef",
   "metadata": {},
   "outputs": [
    {
     "name": "stdout",
     "output_type": "stream",
     "text": [
      "Environment: 'prod'\n"
     ]
    }
   ],
   "source": [
    "import pandas as pd\n",
    "import os\n",
    "\n",
    "env = os.environ.get('Environment')\n",
    "print(f\"Environment: {env!r}\")"
   ]
  },
  {
   "cell_type": "code",
   "execution_count": 2,
   "id": "a7b77311-df25-4e49-b936-0f6dde134c68",
   "metadata": {},
   "outputs": [],
   "source": [
    "%reload_ext jupyter_dmdg"
   ]
  },
  {
   "cell_type": "code",
   "execution_count": 3,
   "id": "ffce22a0-8a00-48fd-a6f8-03c088f066e8",
   "metadata": {},
   "outputs": [],
   "source": [
    "%%athena_to_df --out distinct_last_tag_id\n",
    "SELECT \n",
    "    tag_id,\n",
    "    MAX(ts) AS last_ts\n",
    "FROM \"prod_plant_connectivity_prepared_data\".\"tag_timeserie\"\n",
    "GROUP BY 1"
   ]
  },
  {
   "cell_type": "code",
   "execution_count": 13,
   "id": "7a706ddb-b6da-4657-8750-b983fda07211",
   "metadata": {},
   "outputs": [],
   "source": [
    "%%athena_to_df --out distinct_metadata\n",
    "SELECT DISTINCT \n",
    "    SUBSTRING(tag_id,1,3) AS site_id,\n",
    "    building_id,\n",
    "    source_name,\n",
    "    tag_id\n",
    "FROM \"prod_plant_connectivity_prepared_data\".\"tag_metadata\""
   ]
  },
  {
   "cell_type": "code",
   "execution_count": 31,
   "id": "22fc869d-7029-4b1c-bde5-64248c4df624",
   "metadata": {},
   "outputs": [],
   "source": [
    "df_merged = distinct_metadata.merge(distinct_last_tag_id, how='left', on='tag_id')"
   ]
  },
  {
   "cell_type": "code",
   "execution_count": 33,
   "id": "a22ffd6d-e96b-429e-9c57-87f45ec0c956",
   "metadata": {},
   "outputs": [
    {
     "data": {
      "text/html": [
       "<div>\n",
       "<style scoped>\n",
       "    .dataframe tbody tr th:only-of-type {\n",
       "        vertical-align: middle;\n",
       "    }\n",
       "\n",
       "    .dataframe tbody tr th {\n",
       "        vertical-align: top;\n",
       "    }\n",
       "\n",
       "    .dataframe thead th {\n",
       "        text-align: right;\n",
       "    }\n",
       "</style>\n",
       "<table border=\"1\" class=\"dataframe\">\n",
       "  <thead>\n",
       "    <tr style=\"text-align: right;\">\n",
       "      <th></th>\n",
       "      <th>site_id</th>\n",
       "      <th>building_id</th>\n",
       "      <th>source_name</th>\n",
       "      <th>tag_id</th>\n",
       "      <th>last_ts</th>\n",
       "    </tr>\n",
       "  </thead>\n",
       "  <tbody>\n",
       "    <tr>\n",
       "      <th>8521</th>\n",
       "      <td>SIP</td>\n",
       "      <td>SCPP</td>\n",
       "      <td>ns=2;s=SCP.PLC 2.pcnr_TT1062</td>\n",
       "      <td>SIPSCPP-EST002-PEC0144-TRT1062.PEC-TRM-TEM-CTR</td>\n",
       "      <td>2023-05-24 12:59:59</td>\n",
       "    </tr>\n",
       "    <tr>\n",
       "      <th>18071</th>\n",
       "      <td>MLE</td>\n",
       "      <td>00HG</td>\n",
       "      <td>ns=2;s=Modbus.BARexpert.Grd.133</td>\n",
       "      <td>MLE00HG-WAT001-PDL0001-FQRC001.WAT-DIS-FLO-QUA</td>\n",
       "      <td>2023-05-24 12:59:59</td>\n",
       "    </tr>\n",
       "    <tr>\n",
       "      <th>20446</th>\n",
       "      <td>SIP</td>\n",
       "      <td>ENOX</td>\n",
       "      <td>ns=2;s=Enox.PLC 16.pcnr_PDIA280941</td>\n",
       "      <td>SIPENOX-UTI001-DYI0001-PRC0941.SPD-PRD-PRE-CTR</td>\n",
       "      <td>2023-05-24 12:59:59</td>\n",
       "    </tr>\n",
       "    <tr>\n",
       "      <th>27286</th>\n",
       "      <td>SCO</td>\n",
       "      <td>CHIH</td>\n",
       "      <td>ns=2;s=Allen-Bradley_ControlLogix_Energy_Monit...</td>\n",
       "      <td>SCOCHIH-ELS001-CHI0003-JIT0001.ELE-LVS-ENE-CTR</td>\n",
       "      <td>2023-05-24 12:59:59</td>\n",
       "    </tr>\n",
       "    <tr>\n",
       "      <th>20774</th>\n",
       "      <td>SIP</td>\n",
       "      <td>SCPP</td>\n",
       "      <td>ns=2;s=SCP.PLC 3.pcnr_PT1014</td>\n",
       "      <td>SIPSCPP-PUR003-CEN0101-PT01014.CEN-TRM-PRE-CTR</td>\n",
       "      <td>2023-05-24 12:59:59</td>\n",
       "    </tr>\n",
       "    <tr>\n",
       "      <th>...</th>\n",
       "      <td>...</td>\n",
       "      <td>...</td>\n",
       "      <td>...</td>\n",
       "      <td>...</td>\n",
       "      <td>...</td>\n",
       "    </tr>\n",
       "    <tr>\n",
       "      <th>38608</th>\n",
       "      <td>SIP</td>\n",
       "      <td>ENOX</td>\n",
       "      <td>ns=2;s=Enox.PLC 11.pcnr_PIX21103</td>\n",
       "      <td>SIPENOX-TNF001-DSS1200-PC21103.PEC-PRD-PRE-CTR</td>\n",
       "      <td>NaT</td>\n",
       "    </tr>\n",
       "    <tr>\n",
       "      <th>38611</th>\n",
       "      <td>MLE</td>\n",
       "      <td>00T5</td>\n",
       "      <td>ns=2;s=PlantCo T5 Ambr250 Modular 137117.Ambr2...</td>\n",
       "      <td>MLE00T5-CUC002-BIO0003-FEE0007.CUC-BIO-STA-SET</td>\n",
       "      <td>NaT</td>\n",
       "    </tr>\n",
       "    <tr>\n",
       "      <th>38614</th>\n",
       "      <td>MLE</td>\n",
       "      <td>00T5</td>\n",
       "      <td>ns=2;s=PlantCo T5 Ambr250 Modular 137117.Ambr2...</td>\n",
       "      <td>MLE00T5-CUC002-BIO0001-OXP0002.CUC-BIO-RAT-FCT</td>\n",
       "      <td>NaT</td>\n",
       "    </tr>\n",
       "    <tr>\n",
       "      <th>38618</th>\n",
       "      <td>MLE</td>\n",
       "      <td>00T5</td>\n",
       "      <td>ns=2;s=PlantCo T5 OPC UA.Ambr250.ambr250HT.Bio...</td>\n",
       "      <td>MLE00T5-CUC001-BIO0005-OXP0001.CUC-BIO-FLO-MOD</td>\n",
       "      <td>NaT</td>\n",
       "    </tr>\n",
       "    <tr>\n",
       "      <th>38628</th>\n",
       "      <td>MLE</td>\n",
       "      <td>00T5</td>\n",
       "      <td>ns=2;s=PlantCo T5 Ambr250 Modular 137117.Ambr2...</td>\n",
       "      <td>MLE00T5-CUC002-BIO0005-BIO0001.CUC-BIO-USE-OUT</td>\n",
       "      <td>NaT</td>\n",
       "    </tr>\n",
       "  </tbody>\n",
       "</table>\n",
       "<p>26154 rows × 5 columns</p>\n",
       "</div>"
      ],
      "text/plain": [
       "      site_id building_id                                        source_name  \\\n",
       "8521      SIP        SCPP                       ns=2;s=SCP.PLC 2.pcnr_TT1062   \n",
       "18071     MLE        00HG                    ns=2;s=Modbus.BARexpert.Grd.133   \n",
       "20446     SIP        ENOX                 ns=2;s=Enox.PLC 16.pcnr_PDIA280941   \n",
       "27286     SCO        CHIH  ns=2;s=Allen-Bradley_ControlLogix_Energy_Monit...   \n",
       "20774     SIP        SCPP                       ns=2;s=SCP.PLC 3.pcnr_PT1014   \n",
       "...       ...         ...                                                ...   \n",
       "38608     SIP        ENOX                   ns=2;s=Enox.PLC 11.pcnr_PIX21103   \n",
       "38611     MLE        00T5  ns=2;s=PlantCo T5 Ambr250 Modular 137117.Ambr2...   \n",
       "38614     MLE        00T5  ns=2;s=PlantCo T5 Ambr250 Modular 137117.Ambr2...   \n",
       "38618     MLE        00T5  ns=2;s=PlantCo T5 OPC UA.Ambr250.ambr250HT.Bio...   \n",
       "38628     MLE        00T5  ns=2;s=PlantCo T5 Ambr250 Modular 137117.Ambr2...   \n",
       "\n",
       "                                               tag_id             last_ts  \n",
       "8521   SIPSCPP-EST002-PEC0144-TRT1062.PEC-TRM-TEM-CTR 2023-05-24 12:59:59  \n",
       "18071  MLE00HG-WAT001-PDL0001-FQRC001.WAT-DIS-FLO-QUA 2023-05-24 12:59:59  \n",
       "20446  SIPENOX-UTI001-DYI0001-PRC0941.SPD-PRD-PRE-CTR 2023-05-24 12:59:59  \n",
       "27286  SCOCHIH-ELS001-CHI0003-JIT0001.ELE-LVS-ENE-CTR 2023-05-24 12:59:59  \n",
       "20774  SIPSCPP-PUR003-CEN0101-PT01014.CEN-TRM-PRE-CTR 2023-05-24 12:59:59  \n",
       "...                                               ...                 ...  \n",
       "38608  SIPENOX-TNF001-DSS1200-PC21103.PEC-PRD-PRE-CTR                 NaT  \n",
       "38611  MLE00T5-CUC002-BIO0003-FEE0007.CUC-BIO-STA-SET                 NaT  \n",
       "38614  MLE00T5-CUC002-BIO0001-OXP0002.CUC-BIO-RAT-FCT                 NaT  \n",
       "38618  MLE00T5-CUC001-BIO0005-OXP0001.CUC-BIO-FLO-MOD                 NaT  \n",
       "38628  MLE00T5-CUC002-BIO0005-BIO0001.CUC-BIO-USE-OUT                 NaT  \n",
       "\n",
       "[26154 rows x 5 columns]"
      ]
     },
     "execution_count": 33,
     "metadata": {},
     "output_type": "execute_result"
    }
   ],
   "source": [
    "df_ordered = df_merged.sort_values('last_ts', ascending=False)\n",
    "tag_id_with_ts = df_ordered.drop_duplicates(subset=['site_id','building_id','source_name'], keep='first')\n",
    "tag_id_without_ts = df_ordered[df_ordered['last_ts'].isnull()]\n",
    "unique_tag_id = pd.concat([tag_id_with_ts, tag_id_without_ts])\n",
    "unique_tag_id"
   ]
  },
  {
   "cell_type": "code",
   "execution_count": 34,
   "id": "7b14d484-5a1e-45a2-91a5-26ed736b6a47",
   "metadata": {},
   "outputs": [],
   "source": [
    "non_compliant_tags_due2format = unique_tag_id.loc[unique_tag_id['tag_id'].str.count('-') > 6, ['site_id', 'tag_id']]\n",
    "non_compliant_tags_due2format = non_compliant_tags_due2format.drop_duplicates(subset='tag_id')\n",
    "non_compliant_tags_due2format.to_csv('data/non_compliant_tags_due2format.csv', index=False)"
   ]
  }
 ],
 "metadata": {
  "kernelspec": {
   "display_name": "Python 3",
   "language": "python",
   "name": "python3"
  },
  "language_info": {
   "codemirror_mode": {
    "name": "ipython",
    "version": 3
   },
   "file_extension": ".py",
   "mimetype": "text/x-python",
   "name": "python",
   "nbconvert_exporter": "python",
   "pygments_lexer": "ipython3",
   "version": "3.9.2"
  }
 },
 "nbformat": 4,
 "nbformat_minor": 5
}

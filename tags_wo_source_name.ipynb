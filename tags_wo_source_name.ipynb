{
 "cells": [
  {
   "cell_type": "code",
   "execution_count": 1,
   "id": "8cccc82b-511c-4727-bb41-55efeab8744d",
   "metadata": {},
   "outputs": [
    {
     "name": "stdout",
     "output_type": "stream",
     "text": [
      "Environment: 'prod'\n"
     ]
    }
   ],
   "source": [
    "import pandas as pd\n",
    "import os\n",
    "\n",
    "env = os.environ.get('Environment')\n",
    "print(f\"Environment: {env!r}\")"
   ]
  },
  {
   "cell_type": "code",
   "execution_count": 2,
   "id": "f1b0db4b-50ea-4348-b077-f5afb5b71bd8",
   "metadata": {},
   "outputs": [],
   "source": [
    "%reload_ext jupyter_dmdg"
   ]
  },
  {
   "cell_type": "markdown",
   "id": "1236d005-6a31-49a1-aaf0-2c0b7a87f6b8",
   "metadata": {},
   "source": [
    "### Query tag_id without (wo) associated source_name"
   ]
  },
  {
   "cell_type": "code",
   "execution_count": 3,
   "id": "ffe1d62b-c067-42b5-8b82-53f2da3f923e",
   "metadata": {},
   "outputs": [],
   "source": [
    "%%athena_to_df --out all_distinct_tag_id\n",
    "SELECT \n",
    "    SUBSTRING(tag_id,1,3) AS site_id, \n",
    "    tag_id, \n",
    "    MAX(source_name) AS source_name \n",
    "FROM \"prod_plant_connectivity_prepared_data\".\"tag_metadata\"\t \n",
    "GROUP BY 2"
   ]
  },
  {
   "cell_type": "code",
   "execution_count": 4,
   "id": "7d43d773-214f-41de-8d47-706def8f9914",
   "metadata": {},
   "outputs": [],
   "source": [
    "tag_id_wo_source_name = all_distinct_tag_id[all_distinct_tag_id['source_name'].isnull()]\n",
    "tags_wo_source_name = tag_id_wo_source_name.drop('source_name', axis=1)"
   ]
  },
  {
   "cell_type": "markdown",
   "id": "e5f67cb1-9a1c-4809-9884-395b37a06465",
   "metadata": {},
   "source": [
    "### List of tags wo source_name in the dedicated workspace"
   ]
  },
  {
   "cell_type": "code",
   "execution_count": 5,
   "id": "5829c962-b602-40dd-a3e4-2021e861066e",
   "metadata": {},
   "outputs": [],
   "source": [
    "from src.utils import write_into_table\n",
    "workspace_prefix = 'public-plant-co-data-quality-20230520193210554'"
   ]
  },
  {
   "cell_type": "code",
   "execution_count": 6,
   "id": "e7117d1f-504c-4359-bf5d-245857c5b186",
   "metadata": {},
   "outputs": [],
   "source": [
    "table_name = 'tags_wo_source_name'\n",
    "write_into_table(\n",
    "    tags_wo_source_name,\n",
    "    table_name.lower(),\n",
    "    workspace_prefix\n",
    ")"
   ]
  }
 ],
 "metadata": {
  "kernelspec": {
   "display_name": "Python 3",
   "language": "python",
   "name": "python3"
  },
  "language_info": {
   "codemirror_mode": {
    "name": "ipython",
    "version": 3
   },
   "file_extension": ".py",
   "mimetype": "text/x-python",
   "name": "python",
   "nbconvert_exporter": "python",
   "pygments_lexer": "ipython3",
   "version": "3.9.2"
  }
 },
 "nbformat": 4,
 "nbformat_minor": 5
}

{
 "cells": [
  {
   "cell_type": "code",
   "execution_count": 1,
   "id": "a39f5990-16f5-45b0-9a47-3219a3100379",
   "metadata": {},
   "outputs": [
    {
     "name": "stdout",
     "output_type": "stream",
     "text": [
      "Environment: 'prod'\n"
     ]
    }
   ],
   "source": [
    "import pandas as pd\n",
    "import os\n",
    "\n",
    "env = os.environ.get('Environment')\n",
    "print(f\"Environment: {env!r}\")"
   ]
  },
  {
   "cell_type": "code",
   "execution_count": 2,
   "id": "76a59c66-e3c5-4bd5-bd74-c08cf9451cb7",
   "metadata": {},
   "outputs": [],
   "source": [
    "%reload_ext jupyter_dmdg"
   ]
  },
  {
   "cell_type": "markdown",
   "id": "a8267f0d-2962-466c-9067-f96842aeb1aa",
   "metadata": {},
   "source": [
    "## Non-compliant tags with SD-000478"
   ]
  },
  {
   "cell_type": "code",
   "execution_count": 3,
   "id": "70bc9688-df2e-4183-b16a-50589e1490f6",
   "metadata": {},
   "outputs": [],
   "source": [
    "# non-compliant tags at L3"
   ]
  },
  {
   "cell_type": "code",
   "execution_count": 4,
   "id": "31c2f676-26da-49d9-b439-7253ddb21478",
   "metadata": {},
   "outputs": [],
   "source": [
    "%%athena_to_df --out L3\n",
    "SELECT DISTINCT \n",
    "    tag_id,\n",
    "    site_id,\n",
    "    building_id,\n",
    "    source_name, \n",
    "    SUBSTRING(premise_id,1,3) AS premise    \n",
    "FROM \"prod_plant_connectivity_prepared_data\".\"tag_metadata\"\n",
    "WHERE \n",
    "    SUBSTRING(premise_id,1,3) NOT IN (\n",
    "        SELECT \n",
    "            trigram \n",
    "        FROM \"prod-plantco-referential-data\".\"prod_plantco_referential_hierarchy\"\n",
    "        WHERE level = '3'\n",
    "    )\n",
    "    AND SUBSTRING(premise_id,1,3) != ''\n",
    "    AND source_name != ''"
   ]
  },
  {
   "cell_type": "code",
   "execution_count": 5,
   "id": "7f0d82de-bb17-4ab1-ba72-c05ce0b710be",
   "metadata": {},
   "outputs": [],
   "source": [
    "# non-compliant tags at L4"
   ]
  },
  {
   "cell_type": "code",
   "execution_count": 6,
   "id": "3014c6f8-9c45-4701-8694-b7b45129b8ba",
   "metadata": {},
   "outputs": [],
   "source": [
    "%%athena_to_df --out L4\n",
    "SELECT DISTINCT \n",
    "    tag_id, \n",
    "    site_id,\n",
    "    building_id,\n",
    "    source_name, \n",
    "    SUBSTRING(main_function_id,1,3) AS main_function\n",
    "FROM \"prod_plant_connectivity_prepared_data\".\"tag_metadata\"\n",
    "WHERE \n",
    "    SUBSTRING(main_function_id,1,3) NOT IN (\n",
    "        SELECT \n",
    "            trigram \n",
    "        FROM \"prod-plantco-referential-data\".\"prod_plantco_referential_hierarchy\"\n",
    "        WHERE level = '4'\n",
    "    )\n",
    "    AND SUBSTRING(main_function_id,1,3) != ''\n",
    "    AND source_name != ''"
   ]
  },
  {
   "cell_type": "code",
   "execution_count": 7,
   "id": "583be875-a602-4b2e-ad94-65cf82a2e327",
   "metadata": {},
   "outputs": [],
   "source": [
    "# non-compliant tags at L5"
   ]
  },
  {
   "cell_type": "code",
   "execution_count": 8,
   "id": "a733f8e7-5576-4d0e-a899-726b03f7a96e",
   "metadata": {},
   "outputs": [],
   "source": [
    "%%athena_to_df --out L5_2letters\n",
    "SELECT DISTINCT \n",
    "    tag_id, \n",
    "    site_id,\n",
    "    building_id,\n",
    "    source_name, \n",
    "    SUBSTRING(secondary_function_id,1,2) AS secondary_function\n",
    "FROM \"prod_plant_connectivity_prepared_data\".\"tag_metadata\"\n",
    "WHERE \n",
    "    SUBSTRING(secondary_function_id,1,2) NOT IN (\n",
    "        SELECT \n",
    "            trigram \n",
    "        FROM \"prod-plantco-referential-data\".\"prod_plantco_referential_hierarchy\"\n",
    "        WHERE level = '5'\n",
    "    )\n",
    "    AND secondary_function_id != ''\n",
    "    AND source_name != ''\n",
    "    AND SUBSTRING(secondary_function_id,3,1) BETWEEN '0' AND '9'"
   ]
  },
  {
   "cell_type": "code",
   "execution_count": 9,
   "id": "ab9d72e3-f530-4651-b868-37648054d1ec",
   "metadata": {},
   "outputs": [],
   "source": [
    "%%athena_to_df --out L5_3letters\n",
    "SELECT DISTINCT \n",
    "    tag_id, \n",
    "    site_id,\n",
    "    building_id,\n",
    "    source_name, \n",
    "    SUBSTRING(secondary_function_id,1,3) AS secondary_function\n",
    "FROM \"prod_plant_connectivity_prepared_data\".\"tag_metadata\"\n",
    "WHERE \n",
    "    SUBSTRING(secondary_function_id,1,3) NOT IN (\n",
    "        SELECT \n",
    "            trigram \n",
    "        FROM \"prod-plantco-referential-data\".\"prod_plantco_referential_hierarchy\"\n",
    "        WHERE level = '5'\n",
    "    )\n",
    "    AND secondary_function_id != ''\n",
    "    AND source_name != ''\n",
    "    AND SUBSTRING(secondary_function_id,4,1) BETWEEN '0' AND '9'\n",
    "    AND NOT SUBSTRING(secondary_function_id,3,1) BETWEEN '0' AND '9'"
   ]
  },
  {
   "cell_type": "code",
   "execution_count": 10,
   "id": "f8f01802-fa81-4a76-bb50-852a1edfcdaa",
   "metadata": {},
   "outputs": [],
   "source": [
    "%%athena_to_df --out L5_4letters\n",
    "SELECT DISTINCT \n",
    "    tag_id, \n",
    "    site_id,\n",
    "    building_id,\n",
    "    source_name, \n",
    "    SUBSTRING(secondary_function_id,1,4) AS secondary_function\n",
    "FROM \"prod_plant_connectivity_prepared_data\".\"tag_metadata\"\n",
    "WHERE \n",
    "    SUBSTRING(secondary_function_id,1,4) NOT IN (\n",
    "        SELECT \n",
    "            trigram \n",
    "        FROM \"prod-plantco-referential-data\".\"prod_plantco_referential_hierarchy\"\n",
    "        WHERE level = '5'\n",
    "    )\n",
    "    AND secondary_function_id != ''\n",
    "    AND source_name != ''\n",
    "    AND SUBSTRING(secondary_function_id,5,1) BETWEEN '0' AND '9'\n",
    "    AND NOT SUBSTRING(secondary_function_id,4,1) BETWEEN '0' AND '9'\n",
    "    AND NOT SUBSTRING(secondary_function_id,3,1) BETWEEN '0' AND '9'"
   ]
  },
  {
   "cell_type": "code",
   "execution_count": 11,
   "id": "e1cde45d-0db1-4d3d-b00b-5e5a72e602d7",
   "metadata": {},
   "outputs": [],
   "source": [
    "L5 = pd.concat([L5_2letters, L5_3letters, L5_4letters], axis=0)"
   ]
  },
  {
   "cell_type": "code",
   "execution_count": 12,
   "id": "9ba9ce34-6d93-491b-8b0b-1ba1cb1de7e0",
   "metadata": {},
   "outputs": [],
   "source": [
    "# non-compliant tags at LH"
   ]
  },
  {
   "cell_type": "code",
   "execution_count": 13,
   "id": "c4898d1c-aef1-4326-87b9-9906139c109f",
   "metadata": {},
   "outputs": [],
   "source": [
    "L3_L4 = L3.merge(L4, on=['tag_id', 'site_id', 'source_name', 'building_id'] , how='outer')\n",
    "LH = L3_L4.merge(L5, on=['tag_id', 'site_id', 'source_name', 'building_id'] , how='outer')"
   ]
  },
  {
   "cell_type": "markdown",
   "id": "2e0cc8b7-f0d3-40d8-87ff-97dc9627bd58",
   "metadata": {},
   "source": [
    "## Non-compliant tags with SD-000139"
   ]
  },
  {
   "cell_type": "code",
   "execution_count": 14,
   "id": "303df358-0a4a-4864-b4cc-5c00bfd8537a",
   "metadata": {},
   "outputs": [],
   "source": [
    "# non-compliant tags at SYS"
   ]
  },
  {
   "cell_type": "code",
   "execution_count": 15,
   "id": "64341e6f-df80-48c8-8f0f-508e8fd72ae1",
   "metadata": {},
   "outputs": [],
   "source": [
    "%%athena_to_df --out SYS\n",
    "SELECT DISTINCT \n",
    "    tag_id, \n",
    "    site_id,\n",
    "    building_id,\n",
    "    source_name, \n",
    "    system\n",
    "FROM \"prod_plant_connectivity_prepared_data\".\"tag_metadata\"\n",
    "WHERE \n",
    "    system NOT IN (\n",
    "        SELECT DISTINCT \n",
    "            sys  \n",
    "        FROM \"prod-plantco-referential-data\".\"prod_plantco_referential_tags\"\n",
    "    )\n",
    "    AND system != ''\n",
    "    AND source_name != ''"
   ]
  },
  {
   "cell_type": "code",
   "execution_count": 16,
   "id": "5ebca6ae-74d1-4243-b8cf-e5ed19d89a7c",
   "metadata": {},
   "outputs": [],
   "source": [
    "# non-compliant tags at SUBSYS"
   ]
  },
  {
   "cell_type": "code",
   "execution_count": 17,
   "id": "520ad212-8fd1-488e-b2ce-b3f6e51983b9",
   "metadata": {},
   "outputs": [],
   "source": [
    "%%athena_to_df --out SUBSYS\n",
    "SELECT DISTINCT \n",
    "    tag_id,\n",
    "    site_id,\n",
    "    building_id,\n",
    "    source_name, \n",
    "    subsystem\n",
    "FROM \"prod_plant_connectivity_prepared_data\".\"tag_metadata\"\n",
    "WHERE \n",
    "    subsystem NOT IN (\n",
    "        SELECT DISTINCT \n",
    "            sub \n",
    "        FROM \"prod-plantco-referential-data\".\"prod_plantco_referential_tags\"\n",
    "    )\n",
    "    AND subsystem != ''\n",
    "    AND source_name != ''"
   ]
  },
  {
   "cell_type": "code",
   "execution_count": 18,
   "id": "03edb4a0-f45e-4082-a317-fcc44619754a",
   "metadata": {},
   "outputs": [],
   "source": [
    "# non-compliant tags at TYP"
   ]
  },
  {
   "cell_type": "code",
   "execution_count": 19,
   "id": "478e6004-c033-4b6c-a4e4-183603f45e35",
   "metadata": {},
   "outputs": [],
   "source": [
    "%%athena_to_df --out TYP\n",
    "SELECT DISTINCT \n",
    "    tag_id, \n",
    "    site_id,\n",
    "    building_id,\n",
    "    source_name, \n",
    "    measure_type\n",
    "FROM \"prod_plant_connectivity_prepared_data\".\"tag_metadata\"\n",
    "WHERE \n",
    "    measure_type NOT IN (\n",
    "        SELECT DISTINCT \n",
    "            mea  \n",
    "        FROM \"prod-plantco-referential-data\".\"prod_plantco_referential_tags\"\n",
    "    )\n",
    "    AND measure_type != ''\n",
    "    AND source_name != ''"
   ]
  },
  {
   "cell_type": "code",
   "execution_count": 20,
   "id": "2c6eeef3-5eda-4525-bc82-e3e2e4aa8a72",
   "metadata": {},
   "outputs": [],
   "source": [
    "# non-compliant tags at MEA"
   ]
  },
  {
   "cell_type": "code",
   "execution_count": 21,
   "id": "28fc43a5-d36d-4cd6-a55c-613ca2577d7f",
   "metadata": {},
   "outputs": [],
   "source": [
    "%%athena_to_df --out MEA\n",
    "SELECT DISTINCT \n",
    "    tag_id, \n",
    "    site_id,\n",
    "    building_id,\n",
    "    source_name, \n",
    "    measure\n",
    "FROM \"prod_plant_connectivity_prepared_data\".\"tag_metadata\"\n",
    "WHERE \n",
    "    measure NOT IN (\n",
    "        SELECT DISTINCT \n",
    "            typ  \n",
    "        FROM \"prod-plantco-referential-data\".\"prod_plantco_referential_tags\"\n",
    "    )\n",
    "    AND measure != ''\n",
    "    AND source_name != ''"
   ]
  },
  {
   "cell_type": "code",
   "execution_count": 22,
   "id": "c654cc0c-bc6b-4341-adf7-56ba40b75b3a",
   "metadata": {},
   "outputs": [],
   "source": [
    "# non-compliant tags at Tagname Part"
   ]
  },
  {
   "cell_type": "code",
   "execution_count": 23,
   "id": "4c453cb6-7d1e-4ffb-b235-f5580369fe40",
   "metadata": {},
   "outputs": [],
   "source": [
    "SYSSUB = pd.merge(SYS, SUBSYS, on=['tag_id', 'site_id', 'source_name', 'building_id'] , how='outer')\n",
    "SYSSUBTYP = pd.merge(SYSSUB, TYP, on=['tag_id', 'site_id', 'source_name', 'building_id'] , how='outer')\n",
    "tag_name = pd.merge(SYSSUBTYP, MEA, on=['tag_id', 'site_id', 'source_name', 'building_id'] , how='outer')"
   ]
  },
  {
   "cell_type": "markdown",
   "id": "f20776f1-0ad2-4290-b473-6a2098ebc505",
   "metadata": {},
   "source": [
    "## Non-compliant tags"
   ]
  },
  {
   "cell_type": "code",
   "execution_count": 24,
   "id": "49b40180-44ab-40b1-aeb2-f59e77bb21ca",
   "metadata": {},
   "outputs": [],
   "source": [
    "# at this point we still consider the tag_id already changed and we have duplicated tag_ids "
   ]
  },
  {
   "cell_type": "code",
   "execution_count": 25,
   "id": "0dfcc6c6-ba0b-4e30-b7c4-5af9ad89b50f",
   "metadata": {},
   "outputs": [],
   "source": [
    "wrong_renamed_tags = pd.merge(LH, tag_name, on=['tag_id', 'site_id', 'source_name', 'building_id'], how='outer')"
   ]
  },
  {
   "cell_type": "markdown",
   "id": "43db0ee7-4c0b-47ee-a596-8a4ad3fc8c68",
   "metadata": {},
   "source": [
    "### 01 Delete from \"wrong_renamed_tags\" all combinations of site_id, building_id and source_name that appear more times in \"all_t\" than in \"wrong_renamed_tags\""
   ]
  },
  {
   "cell_type": "code",
   "execution_count": 26,
   "id": "37866574-a839-4506-a6cc-0c3b3bfe6792",
   "metadata": {},
   "outputs": [],
   "source": [
    "# query all tags"
   ]
  },
  {
   "cell_type": "code",
   "execution_count": 27,
   "id": "89c3fffe-3a9b-47ad-82ff-4a1ff4bd11fd",
   "metadata": {},
   "outputs": [],
   "source": [
    "%%athena_to_df --out all_t\n",
    "SELECT DISTINCT \n",
    "    tag_id AS tag_t,\n",
    "    site_id,\n",
    "    building_id,\n",
    "    source_name\n",
    "FROM \"prod_plant_connectivity_prepared_data\".\"tag_metadata\"\n",
    "WHERE \n",
    "    premise_id != ''\n",
    "    AND main_function_id != ''\n",
    "    AND secondary_function_id != ''\n",
    "    AND system != ''\n",
    "    AND subsystem != ''\n",
    "    AND measure_type != ''\n",
    "    AND measure != ''\n",
    "    AND source_name != ''"
   ]
  },
  {
   "cell_type": "code",
   "execution_count": 28,
   "id": "d5f6ea5b-b085-417f-ac52-efe686871377",
   "metadata": {},
   "outputs": [],
   "source": [
    "# from now on we don't include any combination that presents a compliant tag_id"
   ]
  },
  {
   "cell_type": "code",
   "execution_count": 29,
   "id": "d1dfd448-3a12-43e7-8fc1-64af6ba7fb4e",
   "metadata": {},
   "outputs": [],
   "source": [
    "wrong_renamed_tags_cols = wrong_renamed_tags[['tag_id', 'building_id', 'site_id', 'source_name']]\n",
    "wrong_renamed_tags_counts = wrong_renamed_tags_cols.groupby(['site_id', 'building_id', 'source_name']).nunique()\n",
    "all_t_counts = all_t.groupby(['site_id', 'building_id', 'source_name']).nunique()\n",
    "comparison_df = pd.merge(wrong_renamed_tags_counts, all_t_counts, on=['site_id', 'building_id', 'source_name'], how='left')\n",
    "compliant_combinations = comparison_df[comparison_df['tag_id'] < comparison_df['tag_t']]\n",
    "compliant_combinations = compliant_combinations.drop('tag_id', axis=1)\n",
    "merge2drop = pd.merge(wrong_renamed_tags, compliant_combinations, on=['site_id', 'building_id', 'source_name'], how='left')\n",
    "truly_wrong_renamed_tags = merge2drop[merge2drop['tag_t'].isnull()]\n",
    "truly_wrong_renamed_tags = truly_wrong_renamed_tags.drop('tag_t', axis=1)"
   ]
  },
  {
   "cell_type": "markdown",
   "id": "194c886e-0aea-4dfd-bad6-9f715c1e59a5",
   "metadata": {},
   "source": [
    "### 02 Keep only the most recent non-compliant tag_id per each combination"
   ]
  },
  {
   "cell_type": "code",
   "execution_count": 30,
   "id": "1bb5b200-9692-47c4-af8f-b3959eee8ba2",
   "metadata": {},
   "outputs": [],
   "source": [
    "# query all distinct tag_ids in the timeseries table, keeping always the most recent one"
   ]
  },
  {
   "cell_type": "code",
   "execution_count": 31,
   "id": "eb75f38e-9751-4f14-97f7-97bf91258a7a",
   "metadata": {},
   "outputs": [],
   "source": [
    "%%athena_to_df --out distinct_tag_id\n",
    "SELECT \n",
    "    tag_id, \n",
    "    MAX(ts) AS recent_date\n",
    "FROM \"prod_plant_connectivity_prepared_data\".\"tag_timeserie\"\n",
    "GROUP BY tag_id "
   ]
  },
  {
   "cell_type": "code",
   "execution_count": 32,
   "id": "2beebca1-30bf-4372-a230-22721b3a516c",
   "metadata": {},
   "outputs": [],
   "source": [
    "# from now on we don't include any combination that presents a compliant tag_id and we keep only the most recent non-compliant tag_id per each non-compliant combination"
   ]
  },
  {
   "cell_type": "code",
   "execution_count": 33,
   "id": "bed294ca-3883-434c-b051-73d1898268f4",
   "metadata": {},
   "outputs": [],
   "source": [
    "truly_wrong_renamed_tags_with_ts = pd.merge(truly_wrong_renamed_tags, distinct_tag_id, on=['tag_id'], how='left')\n",
    "truly_wrong_renamed_tags_with_ts = truly_wrong_renamed_tags_with_ts.sort_values(by='recent_date', ascending=False)\n",
    "current_non_compliant_tags = truly_wrong_renamed_tags_with_ts.drop_duplicates(subset=['site_id', 'building_id', 'source_name'], keep='first')"
   ]
  },
  {
   "cell_type": "markdown",
   "id": "e70c061f-356f-4f4c-8638-da14beb590c4",
   "metadata": {},
   "source": [
    "### 03 Drop duplicated tag_ids"
   ]
  },
  {
   "cell_type": "code",
   "execution_count": 34,
   "id": "7fb5133c-cb26-4310-a426-2e9304d0e192",
   "metadata": {},
   "outputs": [],
   "source": [
    "non_compliant_tags = current_non_compliant_tags.drop_duplicates(subset=['tag_id'], keep='first')"
   ]
  },
  {
   "cell_type": "markdown",
   "id": "29bdced8-af7f-4601-af54-5b69caa7f51c",
   "metadata": {},
   "source": [
    "### 04 Due to there are trigrams that do not appear in the reference table we have in the Data Lake"
   ]
  },
  {
   "cell_type": "code",
   "execution_count": 35,
   "id": "117b43ad-f076-41fb-a49d-3973379fe970",
   "metadata": {},
   "outputs": [],
   "source": [
    "# remove tagname trigrams that appear in SD-000139 but are not in Data Lake"
   ]
  },
  {
   "cell_type": "code",
   "execution_count": 36,
   "id": "43574a8f-be1c-4444-9cca-48aba73c5431",
   "metadata": {},
   "outputs": [],
   "source": [
    "non_compliant_tags = non_compliant_tags.copy()\n",
    "df_139 = pd.read_csv('data/SD-000139.csv')\n",
    "import numpy as np\n",
    "non_compliant_tags['system'] = np.where(non_compliant_tags['system'].isin(df_139['SYS']), '', non_compliant_tags['system'])\n",
    "non_compliant_tags['subsystem'] = np.where(non_compliant_tags['subsystem'].isin(df_139['SUB']), '', non_compliant_tags['subsystem'])\n",
    "non_compliant_tags['measure_type'] = np.where(non_compliant_tags['measure_type'].isin(df_139['MEA']), '', non_compliant_tags['measure_type'])\n",
    "non_compliant_tags['measure'] = np.where(non_compliant_tags['measure'].isin(df_139['TYP']), '', non_compliant_tags['measure'])"
   ]
  },
  {
   "cell_type": "code",
   "execution_count": 37,
   "id": "93f5c77e-3437-44ea-bbed-e82ea03aa29a",
   "metadata": {},
   "outputs": [],
   "source": [
    "# delete tags that are actually properly renamed if we look for trigrams in the standards and not in Data Lake"
   ]
  },
  {
   "cell_type": "code",
   "execution_count": 38,
   "id": "f0a09121-a32f-48db-8c35-87df3f831d06",
   "metadata": {},
   "outputs": [],
   "source": [
    "columns_to_check = ['premise', 'main_function', 'secondary_function', 'system', 'subsystem', 'measure_type', 'measure']\n",
    "non_compliant_tags[columns_to_check] = non_compliant_tags[columns_to_check].fillna('')\n",
    "non_compliant_tags = non_compliant_tags[~(non_compliant_tags[columns_to_check].apply(lambda x: x == '', axis=1).all(axis=1))]\n",
    "non_compliant_tags = non_compliant_tags.drop(['source_name', 'recent_date'], axis=1)\n",
    "non_compliant_tags = non_compliant_tags.reset_index(drop=True)"
   ]
  },
  {
   "cell_type": "markdown",
   "id": "1e711c4d-771d-4f9f-b153-3f30818601d9",
   "metadata": {},
   "source": [
    "## Statistics for tags"
   ]
  },
  {
   "cell_type": "code",
   "execution_count": 39,
   "id": "8e390728-e0f0-43cf-a7ef-ffec90e725f5",
   "metadata": {},
   "outputs": [],
   "source": [
    "# count how many distinct combinations of site_id, building_id and source_name there are per site_id in the metadata table\n",
    "# if two distinct combinations share the same tag_id, count only one of them"
   ]
  },
  {
   "cell_type": "code",
   "execution_count": 40,
   "id": "630c2a05-9d9b-4225-b705-3cd0e1fe6c21",
   "metadata": {},
   "outputs": [],
   "source": [
    "all_t_distinct_combinations = all_t.drop_duplicates(subset=['source_name', 'site_id', 'building_id'])\n",
    "all_t_distinct_combinations = all_t_distinct_combinations.drop_duplicates(subset=['tag_t'])\n",
    "count_all_t_distinct_combinations = all_t_distinct_combinations.groupby('site_id').size().reset_index(name='nb_tags')"
   ]
  },
  {
   "cell_type": "code",
   "execution_count": 41,
   "id": "cd90e477-c418-415f-8aee-6201edc4d0d1",
   "metadata": {},
   "outputs": [],
   "source": [
    "# count how many non-compliant tags per site there are"
   ]
  },
  {
   "cell_type": "code",
   "execution_count": 42,
   "id": "8fbdd000-2d65-45e5-b401-6b99650642c9",
   "metadata": {},
   "outputs": [],
   "source": [
    "count_non_compliant_tags = non_compliant_tags.groupby('site_id').size().reset_index(name='nb_non_compliant_tags')"
   ]
  },
  {
   "cell_type": "code",
   "execution_count": 43,
   "id": "3f0dab1f-52a6-43b6-a430-bf8a4c8a06f3",
   "metadata": {},
   "outputs": [],
   "source": [
    "# calculate the compliance percentage"
   ]
  },
  {
   "cell_type": "code",
   "execution_count": 44,
   "id": "062eedc4-81b6-449e-92d2-be4830f497a9",
   "metadata": {},
   "outputs": [],
   "source": [
    "for_statistics = count_all_t_distinct_combinations.merge(count_non_compliant_tags, on='site_id' , how='outer')\n",
    "for_statistics['nb_non_compliant_tags'].fillna(0, inplace=True)\n",
    "for_statistics['pct_compliance'] = 100-(100*for_statistics['nb_non_compliant_tags']/for_statistics['nb_tags'])\n",
    "for_statistics['pct_compliance'] = for_statistics['pct_compliance'].round(2)"
   ]
  },
  {
   "cell_type": "markdown",
   "id": "5dadf3f7-3379-43ad-8f45-bccadd38edbe",
   "metadata": {},
   "source": [
    "## Have both list with non-compliant tags and compliance statistics for tags in the dedicated workspace"
   ]
  },
  {
   "cell_type": "code",
   "execution_count": 45,
   "id": "7279caa0-1798-4d01-bf05-9d782d038486",
   "metadata": {},
   "outputs": [],
   "source": [
    "from src.utils import write_into_table\n",
    "workspace_prefix = 'public-plant-co-data-quality-20230520193210554'"
   ]
  },
  {
   "cell_type": "code",
   "execution_count": 46,
   "id": "a43f00f1-8567-492c-9177-46da85e673cd",
   "metadata": {},
   "outputs": [],
   "source": [
    "# list with non-compliant tags in the dedicated workspace"
   ]
  },
  {
   "cell_type": "code",
   "execution_count": 47,
   "id": "193e84fe-132e-435f-970d-07630e94a3dd",
   "metadata": {},
   "outputs": [],
   "source": [
    "tag_table_name = 'non_compliant_tags'\n",
    "write_into_table(\n",
    "    non_compliant_tags,\n",
    "    tag_table_name.lower(),\n",
    "    workspace_prefix\n",
    ")"
   ]
  },
  {
   "cell_type": "code",
   "execution_count": 48,
   "id": "a7e9d5d1-7580-4d25-ac3f-7af62b9db4bd",
   "metadata": {},
   "outputs": [],
   "source": [
    "# compliance statistics for tags in the dedicated workspace"
   ]
  },
  {
   "cell_type": "code",
   "execution_count": 49,
   "id": "9bbaa8a2-425a-4e14-9c96-cd6fa2436ab1",
   "metadata": {},
   "outputs": [],
   "source": [
    "tag_stats_table_name = 'stats4tags'\n",
    "write_into_table(\n",
    "    for_statistics,\n",
    "    tag_stats_table_name.lower(),\n",
    "    workspace_prefix\n",
    ")"
   ]
  }
 ],
 "metadata": {
  "kernelspec": {
   "display_name": "Python 3",
   "language": "python",
   "name": "python3"
  },
  "language_info": {
   "codemirror_mode": {
    "name": "ipython",
    "version": 3
   },
   "file_extension": ".py",
   "mimetype": "text/x-python",
   "name": "python",
   "nbconvert_exporter": "python",
   "pygments_lexer": "ipython3",
   "version": "3.9.2"
  }
 },
 "nbformat": 4,
 "nbformat_minor": 5
}

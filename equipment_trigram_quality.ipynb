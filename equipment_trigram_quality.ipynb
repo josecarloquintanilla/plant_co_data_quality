{
 "cells": [
  {
   "cell_type": "code",
   "execution_count": 1,
   "id": "f3c9c412-51ba-474c-8cc7-3fd7eacfa816",
   "metadata": {},
   "outputs": [
    {
     "name": "stdout",
     "output_type": "stream",
     "text": [
      "Environment: 'prod'\n"
     ]
    }
   ],
   "source": [
    "import pandas as pd\n",
    "import os\n",
    "\n",
    "env = os.environ.get('Environment')\n",
    "print(f\"Environment: {env!r}\")"
   ]
  },
  {
   "cell_type": "code",
   "execution_count": 2,
   "id": "86248147-7f0c-4020-a1b8-f311e006f816",
   "metadata": {},
   "outputs": [],
   "source": [
    "%reload_ext jupyter_dmdg"
   ]
  },
  {
   "cell_type": "markdown",
   "id": "1dfda329-9cd7-47bb-bb23-bbf56b3a8935",
   "metadata": {},
   "source": [
    "## Non-compliant equipment"
   ]
  },
  {
   "cell_type": "code",
   "execution_count": 3,
   "id": "2a2da66a-3430-491d-9339-1219c0fbaaea",
   "metadata": {},
   "outputs": [],
   "source": [
    "# non-compliant equipment at L3"
   ]
  },
  {
   "cell_type": "code",
   "execution_count": 4,
   "id": "c0d18843-0658-4610-8e49-81792621bee2",
   "metadata": {},
   "outputs": [],
   "source": [
    "%%athena_to_df --out L3\n",
    "WITH level_3_trigrams AS (\n",
    "    SELECT \n",
    "        trigram \n",
    "    FROM \"prod-plantco-referential-data\".\"prod_plantco_referential_hierarchy\"\n",
    "    WHERE level = '3'\n",
    ")\n",
    "SELECT DISTINCT\n",
    "    site_id,\n",
    "    location_hierarchy, \n",
    "    SUBSTRING(premise_id,1,3) AS premise \n",
    "FROM \"prod_plant_connectivity_prepared_data\".\"process_events\" events \n",
    "LEFT OUTER JOIN level_3_trigrams t ON t.trigram = SUBSTRING(events.premise_id,1,3)\n",
    "WHERE \n",
    "    t.trigram IS NULL\n",
    "    AND premise_id != ''\n",
    "    AND secondary_function_id IS NULL"
   ]
  },
  {
   "cell_type": "code",
   "execution_count": 5,
   "id": "fb810e6a-2252-488c-a62d-8b8c748a2990",
   "metadata": {},
   "outputs": [],
   "source": [
    "# non-compliant equipment at L4"
   ]
  },
  {
   "cell_type": "code",
   "execution_count": 6,
   "id": "4e5fc8a2-8880-45b2-a112-37a37909bea2",
   "metadata": {},
   "outputs": [],
   "source": [
    "%%athena_to_df --out L4\n",
    "WITH level_4_trigrams AS (\n",
    "    SELECT \n",
    "        trigram \n",
    "    FROM \"prod-plantco-referential-data\".\"prod_plantco_referential_hierarchy\"\n",
    "    WHERE level = '4'\n",
    ")\n",
    "SELECT DISTINCT\n",
    "    site_id,\n",
    "    location_hierarchy, \n",
    "    SUBSTRING(main_function_id,1,3) AS main_function\n",
    "FROM \"prod_plant_connectivity_prepared_data\".\"process_events\" events \n",
    "LEFT OUTER JOIN level_4_trigrams t ON t.trigram = SUBSTRING(events.main_function_id,1,3)\n",
    "WHERE \n",
    "    t.trigram IS NULL\n",
    "    AND main_function_id != ''\n",
    "    AND secondary_function_id IS NULL"
   ]
  },
  {
   "cell_type": "code",
   "execution_count": 7,
   "id": "ae538c7e-001c-4a58-87c7-a9aa8a3ea255",
   "metadata": {},
   "outputs": [],
   "source": [
    "# non-compliant equipment"
   ]
  },
  {
   "cell_type": "code",
   "execution_count": 8,
   "id": "0aabc0db-83a4-4c81-a5c0-a84c8f3e6fbb",
   "metadata": {},
   "outputs": [],
   "source": [
    "non_compliant_equipment = pd.merge(L3, L4, on=['site_id', 'location_hierarchy'], how='outer')"
   ]
  },
  {
   "cell_type": "markdown",
   "id": "b14d11cf-7397-4885-9171-5381854965ea",
   "metadata": {},
   "source": [
    "## Statistics for equipment"
   ]
  },
  {
   "cell_type": "code",
   "execution_count": 9,
   "id": "2d80ec00-468a-450a-baa9-e6cdbf569fd7",
   "metadata": {},
   "outputs": [],
   "source": [
    "# count how many distinct location_hierarchy there are per site_id in the process events table"
   ]
  },
  {
   "cell_type": "code",
   "execution_count": 10,
   "id": "9edffd9c-e299-4cdc-bb0d-a839fa357078",
   "metadata": {},
   "outputs": [],
   "source": [
    "%%athena_to_df --out all_LH\n",
    "SELECT \n",
    "    site_id, \n",
    "    COUNT(DISTINCT location_hierarchy) AS nb_equipment\n",
    "FROM \"prod_plant_connectivity_prepared_data\".\"process_events\"\n",
    "WHERE \n",
    "    premise_id != ''\n",
    "    AND secondary_function_id IS NULL\n",
    "GROUP BY 1"
   ]
  },
  {
   "cell_type": "code",
   "execution_count": 11,
   "id": "239dfcc1-c197-47f7-942c-88a26345a2d9",
   "metadata": {},
   "outputs": [],
   "source": [
    "# count how many non-compliant equipment per site_id there are"
   ]
  },
  {
   "cell_type": "code",
   "execution_count": 12,
   "id": "cba6d2e7-ee0e-4c05-b927-24a3050fb413",
   "metadata": {},
   "outputs": [],
   "source": [
    "count_non_compliant_equipment = non_compliant_equipment.groupby('site_id').size().reset_index(name='nb_non_compliant_equipment')"
   ]
  },
  {
   "cell_type": "code",
   "execution_count": 13,
   "id": "b2c450fe-7e5d-47ab-92ce-e7277a415ba0",
   "metadata": {},
   "outputs": [],
   "source": [
    "# calculate the compliance percentage"
   ]
  },
  {
   "cell_type": "code",
   "execution_count": 14,
   "id": "76337932-2489-41b7-8f99-1d522556e943",
   "metadata": {},
   "outputs": [],
   "source": [
    "for_statistics = all_LH.merge(count_non_compliant_equipment, on='site_id', how='outer')\n",
    "for_statistics['nb_non_compliant_equipment'].fillna(0, inplace=True)\n",
    "for_statistics['nb_non_compliant_equipment'] = for_statistics['nb_non_compliant_equipment'].astype(int)\n",
    "for_statistics['pct_compliance'] = 100-(100*for_statistics['nb_non_compliant_equipment']/for_statistics['nb_equipment'])\n",
    "for_statistics['pct_compliance'] = for_statistics['pct_compliance'].astype(float).round(2)"
   ]
  },
  {
   "cell_type": "markdown",
   "id": "0b954951-55c4-481f-8ec1-cf74f3ab9a66",
   "metadata": {},
   "source": [
    "## Have both list with non-compliant equipment and compliance statistics for equipment in the dedicated workspace"
   ]
  },
  {
   "cell_type": "code",
   "execution_count": 15,
   "id": "21a5f3bb-73a6-4788-9388-ca8e9d004262",
   "metadata": {},
   "outputs": [],
   "source": [
    "from src.utils import write_into_table\n",
    "workspace_prefix = 'public-plant-co-data-quality-20230520193210554'"
   ]
  },
  {
   "cell_type": "code",
   "execution_count": 16,
   "id": "ddc787e3-de9c-4734-a1bb-ec3b388f9753",
   "metadata": {},
   "outputs": [],
   "source": [
    "# list with non-compliant equipment in the dedicated workspace"
   ]
  },
  {
   "cell_type": "code",
   "execution_count": 17,
   "id": "f794274c-e417-4ad6-a272-30dbc5728ede",
   "metadata": {},
   "outputs": [],
   "source": [
    "equipment_table_name = 'non_compliant_equipment'\n",
    "write_into_table(\n",
    "    non_compliant_equipment,\n",
    "    equipment_table_name.lower(),\n",
    "    workspace_prefix\n",
    ")"
   ]
  },
  {
   "cell_type": "code",
   "execution_count": 18,
   "id": "ad55167b-09b1-4ec7-9132-07740122d858",
   "metadata": {},
   "outputs": [],
   "source": [
    "# compliance statistics for equipment in the dedicated workspace"
   ]
  },
  {
   "cell_type": "code",
   "execution_count": 19,
   "id": "e6a4fd6f-7401-4e59-9a2f-5077328dc865",
   "metadata": {},
   "outputs": [],
   "source": [
    "equipment_stats_table_name = 'stats4equipment'\n",
    "write_into_table(\n",
    "    for_statistics,\n",
    "    equipment_stats_table_name.lower(),\n",
    "    workspace_prefix\n",
    ")"
   ]
  }
 ],
 "metadata": {
  "kernelspec": {
   "display_name": "Python 3",
   "language": "python",
   "name": "python3"
  },
  "language_info": {
   "codemirror_mode": {
    "name": "ipython",
    "version": 3
   },
   "file_extension": ".py",
   "mimetype": "text/x-python",
   "name": "python",
   "nbconvert_exporter": "python",
   "pygments_lexer": "ipython3",
   "version": "3.9.2"
  }
 },
 "nbformat": 4,
 "nbformat_minor": 5
}
